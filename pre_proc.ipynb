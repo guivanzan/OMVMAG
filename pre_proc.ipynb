{
 "cells": [
  {
   "cell_type": "markdown",
   "id": "fb554997",
   "metadata": {},
   "source": [
    "## Importanto pacotes e arquivos"
   ]
  },
  {
   "cell_type": "code",
   "execution_count": 132,
   "id": "8e035cb8-b1af-43a1-b15e-a3b02f83c474",
   "metadata": {},
   "outputs": [],
   "source": [
    "import cv2 \n",
    "import numpy as np\n",
    "import matplotlib.pyplot as plt\n",
    "#np.set_printoptions(threshold=sys.maxsize)"
   ]
  },
  {
   "cell_type": "code",
   "execution_count": 2,
   "id": "b798f280",
   "metadata": {},
   "outputs": [],
   "source": [
    "foto = \"imagens/1950/LMH-OMV-1949-1953-52-53 (H) - 2.jpg\"\n",
    "adress = \"imagens/1950\""
   ]
  },
  {
   "cell_type": "markdown",
   "id": "37c2840a",
   "metadata": {},
   "source": [
    "## Pré-processamento (cortando, transformação de perspectiva, RGB2GRAY, blur gaussiano e normalização de contraste por blocos)"
   ]
  },
  {
   "cell_type": "code",
   "execution_count": 124,
   "id": "9c107a7a",
   "metadata": {
    "scrolled": true
   },
   "outputs": [
    {
     "data": {
      "text/plain": [
       "True"
      ]
     },
     "execution_count": 124,
     "metadata": {},
     "output_type": "execute_result"
    }
   ],
   "source": [
    "img = cv2.imread(foto)\n",
    "coords = []\n",
    "selected_index = -1\n",
    "\n",
    "def drawQuadrilateral(event, x, y, flags, param):\n",
    "    global coords, selected_index\n",
    "\n",
    "    if event == cv2.EVENT_LBUTTONDOWN:\n",
    "        for i, (px, py) in enumerate(coords):\n",
    "            if np.abs(x - px) < 10 and np.abs(y - py) < 10:\n",
    "                selected_index = i\n",
    "                break\n",
    "        else:\n",
    "            coords.append((x, y))\n",
    "            selected_index = len(coords) - 1\n",
    "\n",
    "    elif event == cv2.EVENT_LBUTTONUP:\n",
    "        selected_index = -1\n",
    "\n",
    "    elif event == cv2.EVENT_MOUSEMOVE and selected_index != -1:\n",
    "        coords[selected_index] = (x, y)\n",
    "\n",
    "    img_copy = img.copy()\n",
    "\n",
    "    for i, (px, py) in enumerate(coords):\n",
    "        cv2.circle(img_copy, (px, py), 3, (0, 0, 255), -1)\n",
    "        cv2.putText(img_copy, f\"{i + 1}\", (px - 10, py - 10), cv2.FONT_HERSHEY_SIMPLEX, 0.5, (0, 0, 255), 2)\n",
    "\n",
    "    if len(coords) == 4:\n",
    "        pts = np.array(coords, np.int32)\n",
    "        cv2.polylines(img_copy, [pts], True, (255, 0, 0), 2)\n",
    "\n",
    "    cv2.imshow(\"Ajuste do Quadrilátero\", img_copy)\n",
    "\n",
    "\n",
    "cv2.namedWindow(\"Ajuste do Quadrilátero\")\n",
    "cv2.setMouseCallback(\"Ajuste do Quadrilátero\", drawQuadrilateral)\n",
    "\n",
    "cv2.imshow(\"Ajuste do Quadrilátero\", img)\n",
    "cv2.waitKey(0)\n",
    "cv2.destroyAllWindows()\n",
    "\n",
    "pts1 = np.float32([coords[0], coords[1], coords[3], coords[2]])\n",
    "\n",
    "\n",
    "pts2 = np.float32([[0, 0], [1890, 0], [0, 1080], [1890, 1080]])\n",
    "\n",
    "M = cv2.getPerspectiveTransform(pts1, pts2)\n",
    "\n",
    "img_dist = cv2.warpPerspective(img, M, (1896, 200))\n",
    "\n",
    "img = cv2.cvtColor(img_dist, cv2.COLOR_BGR2GRAY)\n",
    "clahe = cv2.createCLAHE(clipLimit=8.5, tileGridSize=(136,36))\n",
    "img = clahe.apply(img)\n",
    "img = cv2.GaussianBlur(img, (1, 1),16)\n",
    "#img = cv2.adaptiveThreshold(img,255,cv2.ADAPTIVE_THRESH_GAUSSIAN_C,cv2.THRESH_BINARY_INV,45,50) \n",
    "imgTratada = img.copy()\n",
    "cv2.imwrite(adress+'/imagem tratada.jpg', imgTratada)\n",
    "\n",
    "rows, cols = 5, 24 #(pode ser um input do usuário, sempre mantendo o número de linhas\n",
    "                    #da tabela n menos 1: rowls = n-1\n",
    "\n",
    "cell_size = img.shape[0] // rows, img.shape[1] // cols\n",
    "# pegamos o tamanho da imagem com img.shape e dividimos pelo número de linhas e colunas \n",
    "# desejadas para ter o tamanho de cada célula\n",
    "\n",
    "for i in range(rows):\n",
    "    y = i * cell_size[0]\n",
    "    cv2.line(img, (0, y), (img.shape[1], y), (0, 255, 0), 1)\n",
    "\n",
    "for j in range(cols):\n",
    "    x = j * cell_size[1]\n",
    "    cv2.line(img, (x, 0), (x, img.shape[0]), (0, 255, 0), 1)\n",
    "\n",
    "cv2.imshow(\"Imagem com grid\", img)\n",
    "cv2.waitKey(0)\n",
    "cv2.destroyAllWindows()\n",
    "cv2.imwrite(adress+'/imagem sem distorcao.png',img_dist)\n"
   ]
  },
  {
   "cell_type": "markdown",
   "id": "0d2d0ee4",
   "metadata": {},
   "source": [
    "## Dividindo a imagem em células da tabela"
   ]
  },
  {
   "cell_type": "code",
   "execution_count": 125,
   "id": "18a2375e-003e-458f-9ef2-548641903d27",
   "metadata": {},
   "outputs": [],
   "source": [
    "img = cv2.imread(adress+\"/imagem tratada.jpg\")\n",
    "cells1 = []\n",
    "cell_size = img.shape[0] // rows, img.shape[1] // cols\n",
    "\n",
    "for i in range(rows):\n",
    "    for j in range(cols):\n",
    "        y1, y2 = i * cell_size[0], (i + 1) * cell_size[0]\n",
    "        x1, x2 = j * cell_size[1], (j + 1) * cell_size[1]\n",
    "        #criando labels coordenadas para cada célula\n",
    "        cell = img[y1:y2, x1:x2].copy() \n",
    "        cells1.append(cell) #adiciona a célula na lista\n",
    "        #cellsArray = np.array(cells)"
   ]
  },
  {
   "cell_type": "code",
   "execution_count": 126,
   "id": "4b8e8ff8-0d5a-45cc-b7d7-5e02b1db5cb9",
   "metadata": {},
   "outputs": [],
   "source": [
    "np.save(adress+'/cells-1-1',cells1)"
   ]
  },
  {
   "cell_type": "markdown",
   "id": "d4ea6526",
   "metadata": {},
   "source": [
    "## Formatando as imagens e dividindo as células em dígitos"
   ]
  },
  {
   "cell_type": "code",
   "execution_count": 158,
   "id": "3539eb41",
   "metadata": {},
   "outputs": [],
   "source": [
    "def resizingImages(array):\n",
    "    \n",
    "    largura = 18\n",
    "    altura = 36\n",
    "    target_resized = []\n",
    "    \n",
    "    for i in range(len(array)):\n",
    "        \n",
    "        img = array[i]\n",
    "        img = img.reshape(-1,36,18,1)\n",
    "        target_resized.append(img)\n",
    "        \n",
    "        #target_resized.append(cv2.resize(img, (largura, altura)))\n",
    "        \n",
    "    array = np.array(target_resized)    \n",
    "    return array"
   ]
  },
  {
   "cell_type": "code",
   "execution_count": 238,
   "id": "4d213b91",
   "metadata": {},
   "outputs": [],
   "source": [
    "digits1 = []\n",
    "largura = 18\n",
    "altura = 36\n",
    "for i in range(len(cells1)):\n",
    "    teste = cv2.cvtColor(cells1[i], cv2.COLOR_BGR2GRAY)\n",
    "    digits1.append(cv2.resize(teste[:,25:37], (largura, altura)))\n",
    "    digits1.append(cv2.resize(teste[:,36:50], (largura, altura)))\n",
    "    digits1.append(cv2.resize(teste[:,49:63], (largura, altura)))\n",
    "digits1 = np.array(digits1)\n",
    "digits1 = digits1.reshape(-1,36,18,1)\n"
   ]
  },
  {
   "cell_type": "code",
   "execution_count": 240,
   "id": "31192d97",
   "metadata": {},
   "outputs": [],
   "source": [
    "np.save(adress+'/digits-1-6',digits1)"
   ]
  }
 ],
 "metadata": {
  "kernelspec": {
   "display_name": "Python 3 (ipykernel)",
   "language": "python",
   "name": "python3"
  },
  "language_info": {
   "codemirror_mode": {
    "name": "ipython",
    "version": 3
   },
   "file_extension": ".py",
   "mimetype": "text/x-python",
   "name": "python",
   "nbconvert_exporter": "python",
   "pygments_lexer": "ipython3",
   "version": "3.9.13"
  }
 },
 "nbformat": 4,
 "nbformat_minor": 5
}
