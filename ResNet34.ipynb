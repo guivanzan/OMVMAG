{
 "cells": [
  {
   "cell_type": "markdown",
   "id": "69e4e902",
   "metadata": {},
   "source": [
    "## Importando pacotes e arquivos"
   ]
  },
  {
   "cell_type": "code",
   "execution_count": 2,
   "id": "0dc526c1",
   "metadata": {},
   "outputs": [],
   "source": [
    "import pandas as pd\n",
    "import tensorflow as tf\n",
    "import numpy as np\n",
    "#from matplotlib import pyplot as plt\n",
    "from sklearn.model_selection import train_test_split\n",
    "from sklearn.preprocessing import OneHotEncoder\n",
    "#from sklearn.metrics import confusion_matrix, ConfusionMatrixDisplay"
   ]
  },
  {
   "cell_type": "code",
   "execution_count": 49,
   "id": "7422cd62",
   "metadata": {},
   "outputs": [],
   "source": [
    "labels_1942_36 = np.load('imagens/1942-36/labels.npy')\n",
    "labels_1942_38 = np.load('imagens/1942-38/labels.npy')\n",
    "labels_1944_24 = np.load('imagens/1944/labels.npy')\n",
    "labels_1946_44 = np.load('imagens/1946/labels.npy')\n",
    "labels_1935_47 = np.load('imagens/1935/labels.npy')\n",
    "labels_1945_38 = np.load('imagens/1945/labels.npy')\n",
    "labels_1929_101_1 = np.load('imagens/1929/labels-1.npy')\n",
    "labels_1960_13 = np.load('imagens/1960/labels.npy')\n",
    "labels_gerados = np.load('imagens/teste - gerado/labels.npy')\n",
    "labels_1959_53 = np.load('imagens/1950/labels-1.npy')\n",
    "\n",
    "digits_1942_36 = np.load('imagens/1942-36/digits.npy')\n",
    "digits_1942_38 = np.load('imagens/1942-38/digits.npy')\n",
    "digits_1944_24 = np.load('imagens/1944/digits.npy')\n",
    "digits_1946_44 = np.load('imagens/1946/digits.npy')\n",
    "digits_1935_47 = np.load('imagens/1935/digits.npy')\n",
    "digits_1945_38 = np.load('imagens/1945/digits.npy')\n",
    "digits_1929_101_1 = np.load('imagens/1929/digits-1.npy')\n",
    "digits_1960_13 = np.load('imagens/1960/digits.npy')\n",
    "digits_gerados = np.load('imagens/teste - gerado/digits.npy')\n",
    "digits_1959_53 = np.load('imagens/1950/digits-1.npy')"
   ]
  },
  {
   "cell_type": "markdown",
   "id": "5cf2a999",
   "metadata": {},
   "source": [
    "## Definindo e compilando NN"
   ]
  },
  {
   "cell_type": "code",
   "execution_count": 54,
   "id": "704fc809",
   "metadata": {},
   "outputs": [],
   "source": [
    "def identity_block(x,filter):\n",
    "    x_skip = x\n",
    "    x = tf.keras.layers.Conv2D(filter,(3,3), padding = 'Same')(x)\n",
    "    x = tf.keras.layers.BatchNormalization(axis = 3)(x)\n",
    "    x = tf.keras.layers.Activation('relu')(x)\n",
    "    x = tf.keras.layers.Conv2D(filter,(3,3), padding = 'Same')(x)\n",
    "    x = tf.keras.layers.BatchNormalization(axis = 3)(x)\n",
    "    x = tf.keras.layers.Add()([x,x_skip])\n",
    "    return x\n",
    "\n",
    "def convolutional_block(x,filter):\n",
    "    x_skip = x\n",
    "    x = tf.keras.layers.Conv2D(filter,(3,3), padding = 'Same', strides = (2,2))(x)\n",
    "    x = tf.keras.layers.BatchNormalization(axis = 3)(x)\n",
    "    x = tf.keras.layers.Activation('relu')(x)\n",
    "    x = tf.keras.layers.Conv2D(filter,(3,3), padding = 'Same')(x)\n",
    "    x = tf.keras.layers.BatchNormalization(axis = 3)(x)\n",
    "    x_skip = tf.keras.layers.Conv2D(filter,(1,1),strides = (2,2))(x_skip)\n",
    "    x = tf.keras.layers.Add()([x,x_skip])\n",
    "    x = tf.keras.layers.Activation('relu')(x)\n",
    "    return x\n",
    "    \n",
    "def ResNet34 (input_shape):\n",
    "    x_input = tf.keras.layers.Input(input_shape)\n",
    "    x = tf.keras.layers.ZeroPadding2D((3,3))(x_input)\n",
    "    x = tf.keras.layers.Conv2D(64,(7,7),strides = 2,padding = 'Same')(x)\n",
    "    x = tf.keras.layers.BatchNormalization(axis = 3)(x)\n",
    "    x = tf.keras.layers.Activation('relu')(x)\n",
    "    x = tf.keras.layers.MaxPool2D(padding = 'Same',strides = 2, pool_size = 3)(x)\n",
    "    block = (3,4,6,3)\n",
    "    filter_size = 64\n",
    "    for r in range(4):\n",
    "        if r == 0:\n",
    "            for j in range(block[r]-1):\n",
    "                x = identity_block(x,filter_size)\n",
    "        else:\n",
    "            filter_size = 2*filter_size\n",
    "            x = convolutional_block(x,filter_size)\n",
    "            for j in range(block[r]-1):\n",
    "                x = identity_block(x,filter_size)\n",
    "    x = tf.keras.layers.AveragePooling2D((2,2),padding = 'Same')(x)\n",
    "    x = tf.keras.layers.Flatten()(x)\n",
    "    x = tf.keras.layers.Dense(512,activation = 'relu')(x)\n",
    "    x = tf.keras.layers.Dense(11,activation = 'softmax')(x)\n",
    "    model = tf.keras.models.Model(inputs= x_input, outputs = x , name = 'ResNet34')\n",
    "    return model"
   ]
  },
  {
   "cell_type": "code",
   "execution_count": 5,
   "id": "0d5b0475",
   "metadata": {},
   "outputs": [
    {
     "data": {
      "text/plain": [
       "<tensorflow.python.checkpoint.checkpoint.CheckpointLoadStatus at 0x2534dc2e670>"
      ]
     },
     "execution_count": 5,
     "metadata": {},
     "output_type": "execute_result"
    }
   ],
   "source": [
    "input_shape = (36, 18, 1)\n",
    "model = ResNet34(input_shape=input_shape)\n",
    "model.compile(loss=\"categorical_crossentropy\", optimizer=\"adam\", metrics=[\"accuracy\"])\n",
    "model.load_weights('cat11/.cp_model_4_pages/model')"
   ]
  },
  {
   "cell_type": "markdown",
   "id": "7497cc56",
   "metadata": {},
   "source": [
    "## Train test split e fit"
   ]
  },
  {
   "cell_type": "code",
   "execution_count": null,
   "id": "39b2ca6c",
   "metadata": {},
   "outputs": [],
   "source": [
    "digits = np.vstack((digits_1942_36,digits_1942_38,digits_1944_24,digits_1946_44))\n",
    "labels = np.hstack((labels_1942_36,labels_1942_38,labels_1944_24,labels_1946_44))\n",
    "print((digits.shape,labels.shape))\n",
    "\n",
    "enc = OneHotEncoder(handle_unknown = 'ignore')\n",
    "\n",
    "labels = pd.DataFrame(labels)\n",
    "enc.fit(labels)\n",
    "labels = enc.transform(labels).toarray()\n",
    "\n",
    "X_train, X_test, y_train, y_test = train_test_split(digits, labels, test_size=0.2)\n",
    "\n",
    "X_train = X_train/255.0\n",
    "X_test = X_test/255.0\n",
    "\n",
    "print(X_train.shape,y_train.shape,X_test.shape,y_test.shape)"
   ]
  },
  {
   "cell_type": "code",
   "execution_count": 24,
   "id": "b48f2aa9",
   "metadata": {
    "collapsed": true
   },
   "outputs": [
    {
     "name": "stdout",
     "output_type": "stream",
     "text": [
      "Epoch 1/10\n",
      "138/138 [==============================] - 122s 830ms/step - loss: 0.9867 - accuracy: 0.7309 - val_loss: 2.5274 - val_accuracy: 0.2158\n",
      "Epoch 2/10\n",
      "138/138 [==============================] - 114s 828ms/step - loss: 0.2412 - accuracy: 0.9262 - val_loss: 1.8758 - val_accuracy: 0.4572\n",
      "Epoch 3/10\n",
      "138/138 [==============================] - 114s 827ms/step - loss: 0.1742 - accuracy: 0.9490 - val_loss: 0.5567 - val_accuracy: 0.8352\n",
      "Epoch 4/10\n",
      "138/138 [==============================] - 117s 851ms/step - loss: 0.1173 - accuracy: 0.9640 - val_loss: 0.2319 - val_accuracy: 0.9362\n",
      "Epoch 5/10\n",
      "138/138 [==============================] - 115s 830ms/step - loss: 0.0803 - accuracy: 0.9786 - val_loss: 0.0994 - val_accuracy: 0.9690\n",
      "Epoch 6/10\n",
      "138/138 [==============================] - 115s 836ms/step - loss: 0.0293 - accuracy: 0.9939 - val_loss: 0.4000 - val_accuracy: 0.8953\n",
      "Epoch 7/10\n",
      "138/138 [==============================] - 115s 831ms/step - loss: 0.0866 - accuracy: 0.9754 - val_loss: 0.1299 - val_accuracy: 0.9754\n",
      "Epoch 8/10\n",
      "138/138 [==============================] - 114s 828ms/step - loss: 0.1327 - accuracy: 0.9638 - val_loss: 2.6725 - val_accuracy: 0.6248\n",
      "Epoch 9/10\n",
      "138/138 [==============================] - 115s 835ms/step - loss: 0.0706 - accuracy: 0.9784 - val_loss: 0.9538 - val_accuracy: 0.8352\n",
      "Epoch 10/10\n",
      "138/138 [==============================] - 115s 832ms/step - loss: 0.0752 - accuracy: 0.9825 - val_loss: 0.2082 - val_accuracy: 0.9463\n"
     ]
    },
    {
     "data": {
      "text/plain": [
       "<keras.callbacks.History at 0x1e785f574f0>"
      ]
     },
     "execution_count": 24,
     "metadata": {},
     "output_type": "execute_result"
    }
   ],
   "source": [
    "model.fit(X_train,y_train,epochs = 10,validation_data = (X_test,y_test), verbose = 1)"
   ]
  },
  {
   "cell_type": "markdown",
   "id": "709a1809",
   "metadata": {},
   "source": [
    "## Visualizando resultados"
   ]
  },
  {
   "cell_type": "code",
   "execution_count": 27,
   "id": "76b692a5",
   "metadata": {},
   "outputs": [],
   "source": [
    "def labeling(array):\n",
    "            \n",
    "    labels = pre_model.predict(array)\n",
    "    labels = np.argmax(labels,axis = 1)\n",
    "    \n",
    "    algarismos_array = []\n",
    "    posicao_algarismos = np.where(labels == 1)\n",
    "    \n",
    "    for k in range(len(labels)):\n",
    "        if int(labels[k]) == 0:\n",
    "            labels[k] = 11\n",
    "    \n",
    "    for i in range(len(posicao_algarismos[0])):\n",
    "        algarismos_array.append(array[posicao_algarismos[0][i]])\n",
    "        \n",
    "    algarismos_array = np.array(algarismos_array)\n",
    "    algarismos_array = algarismos_array.reshape(-1,36,18,1)\n",
    "\n",
    "    labels_algarismos = model.predict(algarismos_array)\n",
    "    labels_algarismos = np.argmax(labels_algarismos,axis = 1)\n",
    "    \n",
    "    for j in range(len(posicao_algarismos[0])):\n",
    "        labels[posicao_algarismos[0][j]] = labels_algarismos[j]\n",
    "    \n",
    "    labels_string = []\n",
    "    for i in range(len(labels)):\n",
    "        if labels[i] in [0,1,2,3,4,5,6,7,8,9]:\n",
    "            labels_string.append(str(labels[i]))\n",
    "        if labels[i] == 11:\n",
    "            labels_string.append(' ')\n",
    "    \n",
    "    #for k in range(len(labels_string)):\n",
    "        #if int(labels_string[k]) == 11:\n",
    "            #labels_string[k] = ' '\n",
    "        \n",
    "    return labels_string\n",
    "\n",
    "def formating(array):\n",
    "    formatedArray = []\n",
    "    for i in range(len(array)):\n",
    "        formatedArray.append(str(array[i]-1))\n",
    "    \n",
    "    for j in range(len(formatedArray)):\n",
    "        if formatedArray[j] == '-1':\n",
    "            formatedArray[j] = ' '\n",
    "    return formatedArray   \n",
    "\n",
    "def stats(predict,true):\n",
    "    stats = []\n",
    "    for i in range(len(true)):\n",
    "        stats.append(true[i] == predict[i])\n",
    "    return 'Qtd de acertos: {} / Porcentagem de acertos: {}'.format(stats.count(True),(stats.count(True)/len(true))*100)"
   ]
  },
  {
   "cell_type": "code",
   "execution_count": 51,
   "id": "dca6b00d",
   "metadata": {},
   "outputs": [
    {
     "name": "stdout",
     "output_type": "stream",
     "text": [
      "44/44 [==============================] - 2s 39ms/step\n"
     ]
    }
   ],
   "source": [
    "predict_1945 = model.predict(digits_1945_38/255)\n",
    "predict_1945 = np.argmax(predict_1945,axis = 1)"
   ]
  },
  {
   "cell_type": "code",
   "execution_count": 52,
   "id": "c5c74874",
   "metadata": {},
   "outputs": [],
   "source": [
    "predict_1945 = formating(predict_1945)"
   ]
  },
  {
   "cell_type": "code",
   "execution_count": 53,
   "id": "f1eae626",
   "metadata": {},
   "outputs": [
    {
     "data": {
      "text/plain": [
       "'Qtd de acertos: 1350 / Porcentagem de acertos: 96.7741935483871'"
      ]
     },
     "execution_count": 53,
     "metadata": {},
     "output_type": "execute_result"
    }
   ],
   "source": [
    "stats(predict_1945,labels_1945_38)"
   ]
  }
 ],
 "metadata": {
  "kernelspec": {
   "display_name": "Python 3 (ipykernel)",
   "language": "python",
   "name": "python3"
  },
  "language_info": {
   "codemirror_mode": {
    "name": "ipython",
    "version": 3
   },
   "file_extension": ".py",
   "mimetype": "text/x-python",
   "name": "python",
   "nbconvert_exporter": "python",
   "pygments_lexer": "ipython3",
   "version": "3.9.13"
  }
 },
 "nbformat": 4,
 "nbformat_minor": 5
}
